{
 "cells": [
  {
   "cell_type": "code",
   "execution_count": null,
   "metadata": {},
   "outputs": [],
   "source": [
    "!pip install pandas\n",
    "!pip install numpy\n",
    "!pip install seaborn\n",
    "!pip install textblob"
   ]
  },
  {
   "cell_type": "code",
   "execution_count": 2,
   "metadata": {},
   "outputs": [],
   "source": [
    "import pandas as pd\n",
    "import numpy as np\n",
    "import matplotlib.pyplot as plt\n",
    "import seaborn as sns\n",
    "%matplotlib inline\n",
    "\n",
    "book_tags = pd.read_csv('book_tags.csv')\n",
    "books = pd.read_csv('books.csv')\n",
    "ratings = pd.read_csv('ratings.csv')\n",
    "toread = pd.read_csv('toread.csv')"
   ]
  },
  {
   "cell_type": "code",
   "execution_count": 3,
   "metadata": {},
   "outputs": [],
   "source": [
    "# toread\n",
    "#     user_id, book_id\n",
    "# books\n",
    "#     book_id,goodreads_book_id,best_book_id,work_id,books_count,isbn,isbn13,authors,original_publication_year,original_title,title,language_code,average_rating,ratings_count,work_ratings_count,work_text_reviews_count,ratings_1,ratings_2,ratings_3,ratings_4,ratings_5,image_url,small_image_url,NonEnglish\n",
    "# ratings \n",
    "#     user_id,book_id,rating\n",
    "# book_tags\n",
    "#     goodreads_book_id,tag_id,count\n"
   ]
  },
  {
   "cell_type": "code",
   "execution_count": 4,
   "metadata": {},
   "outputs": [],
   "source": [
    "# i) Find book_id , goodreads_book_id for records that have null values in 'original_title' in [books.csv]\n",
    "\n",
    "books[books['original_title'].isnull()][['book_id','goodreads_book_id']]\n",
    "\n",
    "# ii) Remove the records in [books.csv] that have null values in 'original_title'.\n",
    "\n",
    "books = books[~books['original_title'].isnull()]\n",
    "\n",
    "# III) Remove the records in other files [ratings.csv],[to_read.csv],[book_tags.csv] by mapping the respective book_id/goodreads_book_id (from i)\n",
    "\n",
    "ratings = ratings[ratings['book_id'].isin(books['book_id'])]\n",
    "toread = toread[toread['book_id'].isin(books['book_id'])]\n",
    "book_tags = book_tags[book_tags['goodreads_book_id'].isin(books['goodreads_book_id'])]"
   ]
  },
  {
   "cell_type": "code",
   "execution_count": 6,
   "metadata": {},
   "outputs": [
    {
     "data": {
      "text/plain": [
       "0    7604\n",
       "Name: goodreads_book_id, dtype: int64"
      ]
     },
     "execution_count": 6,
     "metadata": {},
     "output_type": "execute_result"
    }
   ],
   "source": [
    "# Q7: Which book (goodreads_book_id) is marked as to-read by most users [books.csv,toread.csv] ? (N)\n",
    "\n",
    "a = toread.groupby('book_id').count().sort_values('user_id',ascending=False).reset_index()\n",
    "b = books[['book_id','goodreads_book_id']]\n",
    "c = pd.merge(a,b,on='book_id')\n",
    "c.head(1)['goodreads_book_id']"
   ]
  },
  {
   "cell_type": "code",
   "execution_count": 7,
   "metadata": {},
   "outputs": [
    {
     "data": {
      "text/plain": [
       "3.963060200668896"
      ]
     },
     "execution_count": 7,
     "metadata": {},
     "output_type": "execute_result"
    }
   ],
   "source": [
    "# Q12: What is the mean value of rating of all the books in the dataset based on (average_rating) [books.csv] ? (F)\n",
    "\n",
    "books['average_rating'].mean()"
   ]
  },
  {
   "cell_type": "code",
   "execution_count": 8,
   "metadata": {},
   "outputs": [
    {
     "data": {
      "text/plain": [
       "598"
      ]
     },
     "execution_count": 8,
     "metadata": {},
     "output_type": "execute_result"
    }
   ],
   "source": [
    "# Q2: How many unique books are present in the dataset ? Evaluate based on the 'book_id'? [books.csv] (N)\n",
    "\n",
    "books['book_id'].nunique()"
   ]
  },
  {
   "cell_type": "code",
   "execution_count": 9,
   "metadata": {},
   "outputs": [
    {
     "data": {
      "text/plain": [
       "0    Fifty Shades of Grey\n",
       "Name: original_title, dtype: object"
      ]
     },
     "execution_count": 9,
     "metadata": {},
     "output_type": "execute_result"
    }
   ],
   "source": [
    "# Q4: Which book (original_title) has the maximum number of ratings based on (work_ratings_count) [books.csv] ? (S)\n",
    "\n",
    "books.sort_values('work_ratings_count',ascending=False).head(1)['original_title']"
   ]
  },
  {
   "cell_type": "code",
   "execution_count": 10,
   "metadata": {},
   "outputs": [
    {
     "data": {
      "text/plain": [
       "46310"
      ]
     },
     "execution_count": 10,
     "metadata": {},
     "output_type": "execute_result"
    }
   ],
   "source": [
    "# Q3: How many unique users are present in the dataset [ratings.csv] ? (N)\n",
    "\n",
    "ratings['user_id'].nunique()"
   ]
  },
  {
   "cell_type": "code",
   "execution_count": 34,
   "metadata": {},
   "outputs": [
    {
     "data": {
      "text/plain": [
       "0    2267195\n",
       "Name: goodreads_book_id, dtype: int64"
      ]
     },
     "execution_count": 34,
     "metadata": {},
     "output_type": "execute_result"
    }
   ],
   "source": [
    "# Q10: Which book (goodreads_book_id) has the least number of count of tags given by the user ie. the book \n",
    "# with minimum user records including all tags [book_tags.csv] ? (N)\n",
    "\n",
    "least = book_tags.groupby('goodreads_book_id').sum().sort_values('count').reset_index()\n",
    "least.head(1)['goodreads_book_id']"
   ]
  },
  {
   "cell_type": "code",
   "execution_count": 13,
   "metadata": {},
   "outputs": [
    {
     "data": {
      "text/plain": [
       "652    Billy Budd, Sailor\n",
       "Name: original_title, dtype: object"
      ]
     },
     "execution_count": 13,
     "metadata": {},
     "output_type": "execute_result"
    }
   ],
   "source": [
    "# Q9: Which book (original_title) has the minimum (average_rating) [books.csv] ? (S)\n",
    "\n",
    "books.sort_values('average_rating',ascending=True).head(1)['original_title']"
   ]
  },
  {
   "cell_type": "code",
   "execution_count": 35,
   "metadata": {},
   "outputs": [
    {
     "data": {
      "text/plain": [
       "0    Moby Dick; or, The Whale\n",
       "Name: original_title, dtype: object"
      ]
     },
     "execution_count": 35,
     "metadata": {},
     "output_type": "execute_result"
    }
   ],
   "source": [
    "# Q6: Which book (original_title) has the most number of counts of tags given by the user ie. the book with \n",
    "# maximum user records including all tags [book_tags.csv,books.csv] ? (S)\n",
    "\n",
    "most = book_tags.groupby('goodreads_book_id').sum().sort_values('count',ascending=False).reset_index()\n",
    "most = pd.merge(most,books[['goodreads_book_id','original_title']],on='goodreads_book_id')\n",
    "most.head(1)['original_title']"
   ]
  },
  {
   "cell_type": "code",
   "execution_count": 33,
   "metadata": {},
   "outputs": [
    {
     "data": {
      "text/plain": [
       "0    27\n",
       "Name: tag_id, dtype: int64"
      ]
     },
     "execution_count": 33,
     "metadata": {},
     "output_type": "execute_result"
    }
   ],
   "source": [
    "# Q8: Which is the least used tag, i.e. mapped with the lowest number of books [book_tags.csv]? (In case of more than one tag, mention the tag id with the least numerical value) (N)\n",
    "\n",
    "a = book_tags.groupby('tag_id').count().sort_values('goodreads_book_id',ascending=True).reset_index()\n",
    "a.head(1)['tag_id']"
   ]
  },
  {
   "cell_type": "code",
   "execution_count": 32,
   "metadata": {},
   "outputs": [
    {
     "data": {
      "text/plain": [
       "526"
      ]
     },
     "execution_count": 32,
     "metadata": {},
     "output_type": "execute_result"
    }
   ],
   "source": [
    "# Q14: Predict sentiment using Textblob. How many positive titles (title) are there [books.csv] ? (cut-off >0) N\n",
    "\n",
    "from textblob import TextBlob\n",
    "books['sentiment'] = books['title'].apply(lambda x: TextBlob(x).sentiment.polarity)\n",
    "books[books['sentiment']>=0]['title'].count()"
   ]
  }
 ],
 "metadata": {
  "kernelspec": {
   "display_name": "Python 3.10.6 ('base')",
   "language": "python",
   "name": "python3"
  },
  "language_info": {
   "codemirror_mode": {
    "name": "ipython",
    "version": 3
   },
   "file_extension": ".py",
   "mimetype": "text/x-python",
   "name": "python",
   "nbconvert_exporter": "python",
   "pygments_lexer": "ipython3",
   "version": "3.10.6"
  },
  "orig_nbformat": 4,
  "vscode": {
   "interpreter": {
    "hash": "eb6cd81028d87800fce1650acc3af2624b0156f7f622c49b0a4aaff06dbdcbed"
   }
  }
 },
 "nbformat": 4,
 "nbformat_minor": 2
}
